{
 "cells": [
  {
   "cell_type": "markdown",
   "id": "ca809fcf-2279-4f8e-b073-7a851e55eb4f",
   "metadata": {},
   "source": [
    "Content: Coursera, Python Essentials for MLOps, Module 4, Intro to Pandas and Numpy"
   ]
  },
  {
   "cell_type": "markdown",
   "id": "3565395b-9fe7-49a8-b8b9-cf6ce3155eaa",
   "metadata": {},
   "source": [
    "# Key Terms\n",
    "\n",
    "**Data frame**: A two-dimensional data structure inside Pandas similar to a spreadsheet, with columns and rows.\n",
    "\n",
    "**Series**: A one-dimensional array with axis labels, usually created from a Pandas data frame column.\n",
    "\n",
    "**Loading**: The process of reading external data into a Pandas data frame.\n",
    "\n",
    "**Exploratory analysis**: Initial investigation of data to understand its characteristics before further analysis.\n",
    "\n",
    "**Exporting**: Saving data from a Pandas data frame out to another format like CSV or Excel."
   ]
  },
  {
   "cell_type": "markdown",
   "id": "df6e2e53-4f56-4d3a-a960-9203547c4468",
   "metadata": {},
   "source": [
    "### Installation\n",
    "\n",
    "As always, use a virtual environment (or similar) to install pandas and its dependencies:\n",
    "\n",
    "```dotnetcli\n",
    "$ python3 -m venv venv\n",
    "$ source venv/bin/activate\n",
    "```\n",
    "\n",
    "The example above should work for Linux and OSX, but there is support for Windows systems as well. [Follow the documentation if you need help](https://docs.python.org/3/library/venv.html).\n",
    "\n",
    "The package to install is `pandas`, definitely not here, in Windows PowerShell, in the exact location of venv which is venvMLOps in this repo."
   ]
  },
  {
   "cell_type": "code",
   "execution_count": 4,
   "id": "bb5ea725-3ae6-4a24-afc6-f85bae18c846",
   "metadata": {},
   "outputs": [
    {
     "name": "stdout",
     "output_type": "stream",
     "text": [
      "    Num1  Num2\n",
      "R1     1     2\n",
      "R2     3     4\n",
      "R1    1\n",
      "R2    3\n",
      "Name: Num1, dtype: int64\n"
     ]
    }
   ],
   "source": [
    "#!pip install pandas\n",
    "import pandas as pd\n",
    "\n",
    "# Create data frame \n",
    "data = [[1, 2], [3, 4]] \n",
    "df = pd.DataFrame(data, columns=['Num1', 'Num2'], index=['R1', 'R2'])\n",
    "print(df)\n",
    "\n",
    "# Create series\n",
    "s = df['Num1']\n",
    "print(s)"
   ]
  },
  {
   "cell_type": "code",
   "execution_count": 35,
   "id": "4ca2c1be-1bc0-45a0-be4b-3cd2a061a230",
   "metadata": {},
   "outputs": [
    {
     "name": "stdout",
     "output_type": "stream",
     "text": [
      "           apples  bananas  oranges\n",
      "Monday          4        2        1\n",
      "Tuesday         3        0        1\n",
      "Wednesday       1        0        0\n"
     ]
    }
   ],
   "source": [
    "#list of lists\n",
    "data = [[4, 2, 1],\n",
    "        [3, 0, 1],\n",
    "        [1, 0, 0]]\n",
    "\n",
    "\n",
    "columns = ['apples', 'bananas', 'oranges']\n",
    "index = ['Monday', 'Tuesday', 'Wednesday']\n",
    "\n",
    "df = pd.DataFrame(data, index, columns)\n",
    "print(df)"
   ]
  },
  {
   "cell_type": "code",
   "execution_count": 5,
   "id": "b172aea1-d8bc-4459-8d3b-bfb38e2d4854",
   "metadata": {},
   "outputs": [],
   "source": [
    "# Load CSV file into data frame\n",
    "#df = pd.read_csv('data.csv') \n",
    "\n",
    "# Exploratory analysis\n",
    "#print(df.describe())\n",
    "\n",
    "# Export data frame to CSV\n",
    "#df.to_csv('export.csv')"
   ]
  },
  {
   "cell_type": "code",
   "execution_count": 6,
   "id": "59c20ed7-db35-4bfe-90cc-d4559a4a3be0",
   "metadata": {},
   "outputs": [
    {
     "name": "stdout",
     "output_type": "stream",
     "text": [
      "           apples  bananas  oranges\n",
      "Monday          4        2        1\n",
      "Tuesday         3        0        1\n",
      "Wednesday       1        0        0\n"
     ]
    }
   ],
   "source": [
    "#list of lists\n",
    "data = [[4, 2, 1],\n",
    "        [3, 0, 1],\n",
    "        [1, 0, 0]]\n",
    "\n",
    "\n",
    "columns = ['apples', 'bananas', 'oranges']\n",
    "index = ['Monday', 'Tuesday', 'Wednesday']\n",
    "\n",
    "df = pd.DataFrame(data, index, columns)\n",
    "print(df)"
   ]
  },
  {
   "cell_type": "code",
   "execution_count": 47,
   "id": "37dbeec7-d482-42b9-96de-9e9330632e27",
   "metadata": {},
   "outputs": [],
   "source": [
    "#help(pd.DataFrame)\n",
    "#pd.DataFrame?"
   ]
  },
  {
   "cell_type": "code",
   "execution_count": 45,
   "id": "617f3bcc-121b-4115-98ef-494cbe21e6c9",
   "metadata": {},
   "outputs": [
    {
     "data": {
      "text/plain": [
       "array([[1, 2, 3],\n",
       "       [4, 5, 6],\n",
       "       [7, 8, 9]])"
      ]
     },
     "execution_count": 45,
     "metadata": {},
     "output_type": "execute_result"
    }
   ],
   "source": [
    "data = np.array([(1, 2, 3), (4, 5, 6), (7, 8, 9)], dtype=[(\"a\", \"i4\"), (\"b\", \"i4\"), (\"c\", \"i4\")])\n",
    "data = np.array([(1, 2, 3), (4, 5, 6), (7, 8, 9)])\n",
    "data\n",
    "#df3 = pd.DataFrame(data, columns=['c', 'a'])\n",
    "#df3"
   ]
  },
  {
   "cell_type": "markdown",
   "id": "1f64314b-97df-418c-89f8-d0fc3a944e69",
   "metadata": {},
   "source": [
    "### Loading data into Pandas\n",
    "\n",
    "There are different ways to load data into Pandas. The library is extremely flexible allowing you to work with different popular data formats. This notebook will show you how to load from different sources which include both local and remote."
   ]
  },
  {
   "cell_type": "code",
   "execution_count": 8,
   "id": "bc05d937-1a96-439e-bc03-765e5dbd1572",
   "metadata": {},
   "outputs": [
    {
     "data": {
      "text/html": [
       "<div>\n",
       "<style scoped>\n",
       "    .dataframe tbody tr th:only-of-type {\n",
       "        vertical-align: middle;\n",
       "    }\n",
       "\n",
       "    .dataframe tbody tr th {\n",
       "        vertical-align: top;\n",
       "    }\n",
       "\n",
       "    .dataframe thead th {\n",
       "        text-align: right;\n",
       "    }\n",
       "</style>\n",
       "<table border=\"1\" class=\"dataframe\">\n",
       "  <thead>\n",
       "    <tr style=\"text-align: right;\">\n",
       "      <th></th>\n",
       "      <th>name</th>\n",
       "      <th>grape</th>\n",
       "      <th>region</th>\n",
       "      <th>variety</th>\n",
       "      <th>rating</th>\n",
       "      <th>notes</th>\n",
       "    </tr>\n",
       "  </thead>\n",
       "  <tbody>\n",
       "    <tr>\n",
       "      <th>0</th>\n",
       "      <td>1000 Stories Bourbon Barrel Aged Batch Blue Ca...</td>\n",
       "      <td>NaN</td>\n",
       "      <td>Mendocino, California</td>\n",
       "      <td>Red Wine</td>\n",
       "      <td>91.0</td>\n",
       "      <td>This is a very special, limited release of 100...</td>\n",
       "    </tr>\n",
       "    <tr>\n",
       "      <th>1</th>\n",
       "      <td>1000 Stories Bourbon Barrel Aged Gold Rush Red...</td>\n",
       "      <td>NaN</td>\n",
       "      <td>California</td>\n",
       "      <td>Red Wine</td>\n",
       "      <td>89.0</td>\n",
       "      <td>The California Gold Rush was a period of coura...</td>\n",
       "    </tr>\n",
       "    <tr>\n",
       "      <th>2</th>\n",
       "      <td>1000 Stories Bourbon Barrel Aged Gold Rush Red...</td>\n",
       "      <td>NaN</td>\n",
       "      <td>California</td>\n",
       "      <td>Red Wine</td>\n",
       "      <td>90.0</td>\n",
       "      <td>The California Gold Rush was a period of coura...</td>\n",
       "    </tr>\n",
       "    <tr>\n",
       "      <th>3</th>\n",
       "      <td>1000 Stories Bourbon Barrel Aged Zinfandel 2013</td>\n",
       "      <td>NaN</td>\n",
       "      <td>North Coast, California</td>\n",
       "      <td>Red Wine</td>\n",
       "      <td>91.0</td>\n",
       "      <td>The wine has a deep, rich purple color. An int...</td>\n",
       "    </tr>\n",
       "    <tr>\n",
       "      <th>4</th>\n",
       "      <td>1000 Stories Bourbon Barrel Aged Zinfandel 2014</td>\n",
       "      <td>NaN</td>\n",
       "      <td>California</td>\n",
       "      <td>Red Wine</td>\n",
       "      <td>90.0</td>\n",
       "      <td>Batch #004 is the first release of the 2014 vi...</td>\n",
       "    </tr>\n",
       "  </tbody>\n",
       "</table>\n",
       "</div>"
      ],
      "text/plain": [
       "                                                name  grape  \\\n",
       "0  1000 Stories Bourbon Barrel Aged Batch Blue Ca...    NaN   \n",
       "1  1000 Stories Bourbon Barrel Aged Gold Rush Red...    NaN   \n",
       "2  1000 Stories Bourbon Barrel Aged Gold Rush Red...    NaN   \n",
       "3    1000 Stories Bourbon Barrel Aged Zinfandel 2013    NaN   \n",
       "4    1000 Stories Bourbon Barrel Aged Zinfandel 2014    NaN   \n",
       "\n",
       "                    region   variety  rating  \\\n",
       "0    Mendocino, California  Red Wine    91.0   \n",
       "1               California  Red Wine    89.0   \n",
       "2               California  Red Wine    90.0   \n",
       "3  North Coast, California  Red Wine    91.0   \n",
       "4               California  Red Wine    90.0   \n",
       "\n",
       "                                               notes  \n",
       "0  This is a very special, limited release of 100...  \n",
       "1  The California Gold Rush was a period of coura...  \n",
       "2  The California Gold Rush was a period of coura...  \n",
       "3  The wine has a deep, rich purple color. An int...  \n",
       "4  Batch #004 is the first release of the 2014 vi...  "
      ]
     },
     "execution_count": 8,
     "metadata": {},
     "output_type": "execute_result"
    }
   ],
   "source": [
    "#import pandas as pd\n",
    "csv_url = \"https://raw.githubusercontent.com/paiml/wine-ratings/main/wine-ratings.csv\"\n",
    "# set index_col to 0 to tell pandas that the first column is the index\n",
    "\n",
    "df = pd.read_csv(csv_url, index_col = 0)\n",
    "df.head(5)"
   ]
  },
  {
   "cell_type": "code",
   "execution_count": 15,
   "id": "f4db84d7-deae-411e-aa61-5ad72ad33e94",
   "metadata": {},
   "outputs": [
    {
     "name": "stdout",
     "output_type": "stream",
     "text": [
      "   Rank             Name     Nationality Result Notes Group\n",
      "0   1.0    Svatoslav Ton  Czech Republic   2.14     q     A\n",
      "1   1.0     Toni Huikuri        Finlandi   2.14     q     A\n",
      "2   1.0   James Brierley  United Kingdom   2.14     q     A\n",
      "3   1.0    Noriyasu Arai           Japan   2.14     q     A\n",
      "4   5.0  Yannick Tregaro          Sweden   2.14     q     A\n"
     ]
    }
   ],
   "source": [
    "df = pd.read_csv(\"data/world-championship-qualifier.csv\")\n",
    "print(df.head(5))"
   ]
  },
  {
   "cell_type": "code",
   "execution_count": 17,
   "id": "539cd6fe-29ff-4fab-9bac-510128b02515",
   "metadata": {},
   "outputs": [
    {
     "data": {
      "text/html": [
       "<div>\n",
       "<style scoped>\n",
       "    .dataframe tbody tr th:only-of-type {\n",
       "        vertical-align: middle;\n",
       "    }\n",
       "\n",
       "    .dataframe tbody tr th {\n",
       "        vertical-align: top;\n",
       "    }\n",
       "\n",
       "    .dataframe thead th {\n",
       "        text-align: right;\n",
       "    }\n",
       "</style>\n",
       "<table border=\"1\" class=\"dataframe\">\n",
       "  <thead>\n",
       "    <tr style=\"text-align: right;\">\n",
       "      <th></th>\n",
       "      <th>Rank</th>\n",
       "      <th>Name</th>\n",
       "      <th>Nationality</th>\n",
       "      <th>Result</th>\n",
       "      <th>Notes</th>\n",
       "      <th>Group</th>\n",
       "    </tr>\n",
       "  </thead>\n",
       "  <tbody>\n",
       "    <tr>\n",
       "      <th>0</th>\n",
       "      <td>1.0</td>\n",
       "      <td>Svatoslav Ton</td>\n",
       "      <td>Czech Republic</td>\n",
       "      <td>2.14</td>\n",
       "      <td>q</td>\n",
       "      <td>A</td>\n",
       "    </tr>\n",
       "    <tr>\n",
       "      <th>1</th>\n",
       "      <td>1.0</td>\n",
       "      <td>Toni Huikuri</td>\n",
       "      <td>Finlandi</td>\n",
       "      <td>2.14</td>\n",
       "      <td>q</td>\n",
       "      <td>A</td>\n",
       "    </tr>\n",
       "    <tr>\n",
       "      <th>2</th>\n",
       "      <td>1.0</td>\n",
       "      <td>James Brierley</td>\n",
       "      <td>United Kingdom</td>\n",
       "      <td>2.14</td>\n",
       "      <td>q</td>\n",
       "      <td>A</td>\n",
       "    </tr>\n",
       "  </tbody>\n",
       "</table>\n",
       "</div>"
      ],
      "text/plain": [
       "   Rank            Name     Nationality Result Notes Group\n",
       "0   1.0   Svatoslav Ton  Czech Republic   2.14     q     A\n",
       "1   1.0    Toni Huikuri        Finlandi   2.14     q     A\n",
       "2   1.0  James Brierley  United Kingdom   2.14     q     A"
      ]
     },
     "execution_count": 17,
     "metadata": {},
     "output_type": "execute_result"
    }
   ],
   "source": [
    "df = pd.read_json(\"data/world-championship-qualifier.json\")\n",
    "df.head(3)"
   ]
  },
  {
   "cell_type": "code",
   "execution_count": 18,
   "id": "e68c9c6b-fd62-4f01-ba03-04e7e71f617a",
   "metadata": {},
   "outputs": [],
   "source": [
    "df = pd.read_clipboard()"
   ]
  },
  {
   "cell_type": "code",
   "execution_count": 28,
   "id": "d1505532-29f4-46e9-9d50-b58d8185efd2",
   "metadata": {},
   "outputs": [
    {
     "name": "stdout",
     "output_type": "stream",
     "text": [
      "['ArrowDtype', 'BooleanDtype', 'Categorical']\n"
     ]
    }
   ],
   "source": [
    "# Interactive Help in Python \n",
    "\n",
    "# List all the commands in dir(pd)\n",
    "#all_commands = dir(pd)\n",
    "#print(all_commands)\n",
    "\n",
    "#dir(pd)\n",
    "\n",
    "# List the first three commands in dir(pd)\n",
    "first_three_commands = dir(pd)[:3]\n",
    "print(first_three_commands)"
   ]
  },
  {
   "cell_type": "code",
   "execution_count": 29,
   "id": "3602e449-762f-461d-8eab-80b3a850ce67",
   "metadata": {},
   "outputs": [
    {
     "name": "stdout",
     "output_type": "stream",
     "text": [
      "['read_clipboard', 'read_csv', 'read_excel', 'read_feather', 'read_fwf', 'read_gbq', 'read_hdf', 'read_html', 'read_json', 'read_orc', 'read_parquet', 'read_pickle', 'read_sas', 'read_spss', 'read_sql', 'read_sql_query', 'read_sql_table', 'read_stata', 'read_table', 'read_xml']\n"
     ]
    }
   ],
   "source": [
    "# List all commands starting with 'read_'\n",
    "read_commands = [cmd for cmd in dir(pd) if cmd.startswith('read_')]\n",
    "print(read_commands)"
   ]
  },
  {
   "cell_type": "code",
   "execution_count": 32,
   "id": "0e3a69d8-b54a-4b81-9714-163558887401",
   "metadata": {},
   "outputs": [
    {
     "data": {
      "text/plain": [
       "535"
      ]
     },
     "execution_count": 32,
     "metadata": {},
     "output_type": "execute_result"
    }
   ],
   "source": [
    "import numpy as np\n",
    "len(dir(np))"
   ]
  },
  {
   "cell_type": "markdown",
   "id": "ccec10e7-d084-4dca-909e-690c21a5e019",
   "metadata": {},
   "source": [
    "### Writing data from Pandas Dataframes\n",
    "\n",
    "Once data is loaded in a `Dataframe` object in Pandas, you have the ability to transform that data to various different formats including the clipboard. Most destinations will require a path on the filesystem for writing the output."
   ]
  },
  {
   "cell_type": "code",
   "execution_count": 67,
   "id": "de8fea79-fdac-4e48-9578-dde465067379",
   "metadata": {},
   "outputs": [
    {
     "data": {
      "text/html": [
       "<div>\n",
       "<style scoped>\n",
       "    .dataframe tbody tr th:only-of-type {\n",
       "        vertical-align: middle;\n",
       "    }\n",
       "\n",
       "    .dataframe tbody tr th {\n",
       "        vertical-align: top;\n",
       "    }\n",
       "\n",
       "    .dataframe thead th {\n",
       "        text-align: right;\n",
       "    }\n",
       "</style>\n",
       "<table border=\"1\" class=\"dataframe\">\n",
       "  <thead>\n",
       "    <tr style=\"text-align: right;\">\n",
       "      <th></th>\n",
       "      <th>Rank</th>\n",
       "      <th>Name</th>\n",
       "      <th>Nationality</th>\n",
       "      <th>Result</th>\n",
       "      <th>Notes</th>\n",
       "      <th>Group</th>\n",
       "    </tr>\n",
       "  </thead>\n",
       "  <tbody>\n",
       "    <tr>\n",
       "      <th>0</th>\n",
       "      <td>1.0</td>\n",
       "      <td>Svatoslav Ton</td>\n",
       "      <td>Czech Republic</td>\n",
       "      <td>2.14</td>\n",
       "      <td>q</td>\n",
       "      <td>A</td>\n",
       "    </tr>\n",
       "    <tr>\n",
       "      <th>1</th>\n",
       "      <td>1.0</td>\n",
       "      <td>Toni Huikuri</td>\n",
       "      <td>Finlandi</td>\n",
       "      <td>2.14</td>\n",
       "      <td>q</td>\n",
       "      <td>A</td>\n",
       "    </tr>\n",
       "    <tr>\n",
       "      <th>2</th>\n",
       "      <td>1.0</td>\n",
       "      <td>James Brierley</td>\n",
       "      <td>United Kingdom</td>\n",
       "      <td>2.14</td>\n",
       "      <td>q</td>\n",
       "      <td>A</td>\n",
       "    </tr>\n",
       "  </tbody>\n",
       "</table>\n",
       "</div>"
      ],
      "text/plain": [
       "   Rank            Name     Nationality Result Notes Group\n",
       "0   1.0   Svatoslav Ton  Czech Republic   2.14     q     A\n",
       "1   1.0    Toni Huikuri        Finlandi   2.14     q     A\n",
       "2   1.0  James Brierley  United Kingdom   2.14     q     A"
      ]
     },
     "execution_count": 67,
     "metadata": {},
     "output_type": "execute_result"
    }
   ],
   "source": [
    "df = pd.read_csv(\"data/world-championship-qualifier.csv\")\n",
    "df.head(3)"
   ]
  },
  {
   "cell_type": "markdown",
   "id": "308ec3ff-476b-403d-b0ed-e4d6b6c35059",
   "metadata": {},
   "source": [
    "#### Write to many other destinations"
   ]
  },
  {
   "cell_type": "code",
   "execution_count": 60,
   "id": "103806c4-87b8-4118-837d-8afeeb9002ae",
   "metadata": {},
   "outputs": [
    {
     "name": "stdout",
     "output_type": "stream",
     "text": [
      "['to_clipboard', 'to_csv', 'to_dict', 'to_excel', 'to_feather', 'to_gbq', 'to_hdf', 'to_html', 'to_json', 'to_latex', 'to_markdown', 'to_numpy', 'to_orc', 'to_parquet', 'to_period', 'to_pickle', 'to_records', 'to_sql', 'to_stata', 'to_string', 'to_timestamp', 'to_xarray', 'to_xml']\n"
     ]
    }
   ],
   "source": [
    "to_commands= [cmd for cmd in dir(df) if cmd.startswith('to_')]\n",
    "print(to_commands)"
   ]
  },
  {
   "cell_type": "code",
   "execution_count": 66,
   "id": "7c8b8a36-10ac-44d5-8063-163d8468c95b",
   "metadata": {},
   "outputs": [],
   "source": [
    "# export a dataset to HTML\n",
    "html_df = df.to_html(\"data/to_html_dataset.html\")\n"
   ]
  },
  {
   "cell_type": "code",
   "execution_count": 59,
   "id": "b608ab46-a26a-4535-bf30-c86148ddbea7",
   "metadata": {},
   "outputs": [
    {
     "data": {
      "text/plain": [
       "\u001b[1;31mSignature:\u001b[0m\n",
       "\u001b[0mdf\u001b[0m\u001b[1;33m.\u001b[0m\u001b[0mto_csv\u001b[0m\u001b[1;33m(\u001b[0m\u001b[1;33m\n",
       "\u001b[0m    \u001b[0mpath_or_buf\u001b[0m\u001b[1;33m:\u001b[0m \u001b[1;34m'FilePath | WriteBuffer[bytes] | WriteBuffer[str] | None'\u001b[0m \u001b[1;33m=\u001b[0m \u001b[1;32mNone\u001b[0m\u001b[1;33m,\u001b[0m\u001b[1;33m\n",
       "\u001b[0m    \u001b[1;33m*\u001b[0m\u001b[1;33m,\u001b[0m\u001b[1;33m\n",
       "\u001b[0m    \u001b[0msep\u001b[0m\u001b[1;33m:\u001b[0m \u001b[1;34m'str'\u001b[0m \u001b[1;33m=\u001b[0m \u001b[1;34m','\u001b[0m\u001b[1;33m,\u001b[0m\u001b[1;33m\n",
       "\u001b[0m    \u001b[0mna_rep\u001b[0m\u001b[1;33m:\u001b[0m \u001b[1;34m'str'\u001b[0m \u001b[1;33m=\u001b[0m \u001b[1;34m''\u001b[0m\u001b[1;33m,\u001b[0m\u001b[1;33m\n",
       "\u001b[0m    \u001b[0mfloat_format\u001b[0m\u001b[1;33m:\u001b[0m \u001b[1;34m'str | Callable | None'\u001b[0m \u001b[1;33m=\u001b[0m \u001b[1;32mNone\u001b[0m\u001b[1;33m,\u001b[0m\u001b[1;33m\n",
       "\u001b[0m    \u001b[0mcolumns\u001b[0m\u001b[1;33m:\u001b[0m \u001b[1;34m'Sequence[Hashable] | None'\u001b[0m \u001b[1;33m=\u001b[0m \u001b[1;32mNone\u001b[0m\u001b[1;33m,\u001b[0m\u001b[1;33m\n",
       "\u001b[0m    \u001b[0mheader\u001b[0m\u001b[1;33m:\u001b[0m \u001b[1;34m'bool_t | list[str]'\u001b[0m \u001b[1;33m=\u001b[0m \u001b[1;32mTrue\u001b[0m\u001b[1;33m,\u001b[0m\u001b[1;33m\n",
       "\u001b[0m    \u001b[0mindex\u001b[0m\u001b[1;33m:\u001b[0m \u001b[1;34m'bool_t'\u001b[0m \u001b[1;33m=\u001b[0m \u001b[1;32mTrue\u001b[0m\u001b[1;33m,\u001b[0m\u001b[1;33m\n",
       "\u001b[0m    \u001b[0mindex_label\u001b[0m\u001b[1;33m:\u001b[0m \u001b[1;34m'IndexLabel | None'\u001b[0m \u001b[1;33m=\u001b[0m \u001b[1;32mNone\u001b[0m\u001b[1;33m,\u001b[0m\u001b[1;33m\n",
       "\u001b[0m    \u001b[0mmode\u001b[0m\u001b[1;33m:\u001b[0m \u001b[1;34m'str'\u001b[0m \u001b[1;33m=\u001b[0m \u001b[1;34m'w'\u001b[0m\u001b[1;33m,\u001b[0m\u001b[1;33m\n",
       "\u001b[0m    \u001b[0mencoding\u001b[0m\u001b[1;33m:\u001b[0m \u001b[1;34m'str | None'\u001b[0m \u001b[1;33m=\u001b[0m \u001b[1;32mNone\u001b[0m\u001b[1;33m,\u001b[0m\u001b[1;33m\n",
       "\u001b[0m    \u001b[0mcompression\u001b[0m\u001b[1;33m:\u001b[0m \u001b[1;34m'CompressionOptions'\u001b[0m \u001b[1;33m=\u001b[0m \u001b[1;34m'infer'\u001b[0m\u001b[1;33m,\u001b[0m\u001b[1;33m\n",
       "\u001b[0m    \u001b[0mquoting\u001b[0m\u001b[1;33m:\u001b[0m \u001b[1;34m'int | None'\u001b[0m \u001b[1;33m=\u001b[0m \u001b[1;32mNone\u001b[0m\u001b[1;33m,\u001b[0m\u001b[1;33m\n",
       "\u001b[0m    \u001b[0mquotechar\u001b[0m\u001b[1;33m:\u001b[0m \u001b[1;34m'str'\u001b[0m \u001b[1;33m=\u001b[0m \u001b[1;34m'\"'\u001b[0m\u001b[1;33m,\u001b[0m\u001b[1;33m\n",
       "\u001b[0m    \u001b[0mlineterminator\u001b[0m\u001b[1;33m:\u001b[0m \u001b[1;34m'str | None'\u001b[0m \u001b[1;33m=\u001b[0m \u001b[1;32mNone\u001b[0m\u001b[1;33m,\u001b[0m\u001b[1;33m\n",
       "\u001b[0m    \u001b[0mchunksize\u001b[0m\u001b[1;33m:\u001b[0m \u001b[1;34m'int | None'\u001b[0m \u001b[1;33m=\u001b[0m \u001b[1;32mNone\u001b[0m\u001b[1;33m,\u001b[0m\u001b[1;33m\n",
       "\u001b[0m    \u001b[0mdate_format\u001b[0m\u001b[1;33m:\u001b[0m \u001b[1;34m'str | None'\u001b[0m \u001b[1;33m=\u001b[0m \u001b[1;32mNone\u001b[0m\u001b[1;33m,\u001b[0m\u001b[1;33m\n",
       "\u001b[0m    \u001b[0mdoublequote\u001b[0m\u001b[1;33m:\u001b[0m \u001b[1;34m'bool_t'\u001b[0m \u001b[1;33m=\u001b[0m \u001b[1;32mTrue\u001b[0m\u001b[1;33m,\u001b[0m\u001b[1;33m\n",
       "\u001b[0m    \u001b[0mescapechar\u001b[0m\u001b[1;33m:\u001b[0m \u001b[1;34m'str | None'\u001b[0m \u001b[1;33m=\u001b[0m \u001b[1;32mNone\u001b[0m\u001b[1;33m,\u001b[0m\u001b[1;33m\n",
       "\u001b[0m    \u001b[0mdecimal\u001b[0m\u001b[1;33m:\u001b[0m \u001b[1;34m'str'\u001b[0m \u001b[1;33m=\u001b[0m \u001b[1;34m'.'\u001b[0m\u001b[1;33m,\u001b[0m\u001b[1;33m\n",
       "\u001b[0m    \u001b[0merrors\u001b[0m\u001b[1;33m:\u001b[0m \u001b[1;34m'OpenFileErrors'\u001b[0m \u001b[1;33m=\u001b[0m \u001b[1;34m'strict'\u001b[0m\u001b[1;33m,\u001b[0m\u001b[1;33m\n",
       "\u001b[0m    \u001b[0mstorage_options\u001b[0m\u001b[1;33m:\u001b[0m \u001b[1;34m'StorageOptions | None'\u001b[0m \u001b[1;33m=\u001b[0m \u001b[1;32mNone\u001b[0m\u001b[1;33m,\u001b[0m\u001b[1;33m\n",
       "\u001b[0m\u001b[1;33m)\u001b[0m \u001b[1;33m->\u001b[0m \u001b[1;34m'str | None'\u001b[0m\u001b[1;33m\u001b[0m\u001b[1;33m\u001b[0m\u001b[0m\n",
       "\u001b[1;31mDocstring:\u001b[0m\n",
       "Write object to a comma-separated values (csv) file.\n",
       "\n",
       "Parameters\n",
       "----------\n",
       "path_or_buf : str, path object, file-like object, or None, default None\n",
       "    String, path object (implementing os.PathLike[str]), or file-like\n",
       "    object implementing a write() function. If None, the result is\n",
       "    returned as a string. If a non-binary file object is passed, it should\n",
       "    be opened with `newline=''`, disabling universal newlines. If a binary\n",
       "    file object is passed, `mode` might need to contain a `'b'`.\n",
       "sep : str, default ','\n",
       "    String of length 1. Field delimiter for the output file.\n",
       "na_rep : str, default ''\n",
       "    Missing data representation.\n",
       "float_format : str, Callable, default None\n",
       "    Format string for floating point numbers. If a Callable is given, it takes\n",
       "    precedence over other numeric formatting parameters, like decimal.\n",
       "columns : sequence, optional\n",
       "    Columns to write.\n",
       "header : bool or list of str, default True\n",
       "    Write out the column names. If a list of strings is given it is\n",
       "    assumed to be aliases for the column names.\n",
       "index : bool, default True\n",
       "    Write row names (index).\n",
       "index_label : str or sequence, or False, default None\n",
       "    Column label for index column(s) if desired. If None is given, and\n",
       "    `header` and `index` are True, then the index names are used. A\n",
       "    sequence should be given if the object uses MultiIndex. If\n",
       "    False do not print fields for index names. Use index_label=False\n",
       "    for easier importing in R.\n",
       "mode : {'w', 'x', 'a'}, default 'w'\n",
       "    Forwarded to either `open(mode=)` or `fsspec.open(mode=)` to control\n",
       "    the file opening. Typical values include:\n",
       "\n",
       "    - 'w', truncate the file first.\n",
       "    - 'x', exclusive creation, failing if the file already exists.\n",
       "    - 'a', append to the end of file if it exists.\n",
       "\n",
       "encoding : str, optional\n",
       "    A string representing the encoding to use in the output file,\n",
       "    defaults to 'utf-8'. `encoding` is not supported if `path_or_buf`\n",
       "    is a non-binary file object.\n",
       "compression : str or dict, default 'infer'\n",
       "    For on-the-fly compression of the output data. If 'infer' and 'path_or_buf' is\n",
       "    path-like, then detect compression from the following extensions: '.gz',\n",
       "    '.bz2', '.zip', '.xz', '.zst', '.tar', '.tar.gz', '.tar.xz' or '.tar.bz2'\n",
       "    (otherwise no compression).\n",
       "    Set to ``None`` for no compression.\n",
       "    Can also be a dict with key ``'method'`` set\n",
       "    to one of {``'zip'``, ``'gzip'``, ``'bz2'``, ``'zstd'``, ``'xz'``, ``'tar'``} and\n",
       "    other key-value pairs are forwarded to\n",
       "    ``zipfile.ZipFile``, ``gzip.GzipFile``,\n",
       "    ``bz2.BZ2File``, ``zstandard.ZstdCompressor``, ``lzma.LZMAFile`` or\n",
       "    ``tarfile.TarFile``, respectively.\n",
       "    As an example, the following could be passed for faster compression and to create\n",
       "    a reproducible gzip archive:\n",
       "    ``compression={'method': 'gzip', 'compresslevel': 1, 'mtime': 1}``.\n",
       "\n",
       "    .. versionadded:: 1.5.0\n",
       "        Added support for `.tar` files.\n",
       "\n",
       "       May be a dict with key 'method' as compression mode\n",
       "       and other entries as additional compression options if\n",
       "       compression mode is 'zip'.\n",
       "\n",
       "       Passing compression options as keys in dict is\n",
       "       supported for compression modes 'gzip', 'bz2', 'zstd', and 'zip'.\n",
       "quoting : optional constant from csv module\n",
       "    Defaults to csv.QUOTE_MINIMAL. If you have set a `float_format`\n",
       "    then floats are converted to strings and thus csv.QUOTE_NONNUMERIC\n",
       "    will treat them as non-numeric.\n",
       "quotechar : str, default '\\\"'\n",
       "    String of length 1. Character used to quote fields.\n",
       "lineterminator : str, optional\n",
       "    The newline character or character sequence to use in the output\n",
       "    file. Defaults to `os.linesep`, which depends on the OS in which\n",
       "    this method is called ('\\\\n' for linux, '\\\\r\\\\n' for Windows, i.e.).\n",
       "\n",
       "    .. versionchanged:: 1.5.0\n",
       "\n",
       "        Previously was line_terminator, changed for consistency with\n",
       "        read_csv and the standard library 'csv' module.\n",
       "\n",
       "chunksize : int or None\n",
       "    Rows to write at a time.\n",
       "date_format : str, default None\n",
       "    Format string for datetime objects.\n",
       "doublequote : bool, default True\n",
       "    Control quoting of `quotechar` inside a field.\n",
       "escapechar : str, default None\n",
       "    String of length 1. Character used to escape `sep` and `quotechar`\n",
       "    when appropriate.\n",
       "decimal : str, default '.'\n",
       "    Character recognized as decimal separator. E.g. use ',' for\n",
       "    European data.\n",
       "errors : str, default 'strict'\n",
       "    Specifies how encoding and decoding errors are to be handled.\n",
       "    See the errors argument for :func:`open` for a full list\n",
       "    of options.\n",
       "\n",
       "storage_options : dict, optional\n",
       "    Extra options that make sense for a particular storage connection, e.g.\n",
       "    host, port, username, password, etc. For HTTP(S) URLs the key-value pairs\n",
       "    are forwarded to ``urllib.request.Request`` as header options. For other\n",
       "    URLs (e.g. starting with \"s3://\", and \"gcs://\") the key-value pairs are\n",
       "    forwarded to ``fsspec.open``. Please see ``fsspec`` and ``urllib`` for more\n",
       "    details, and for more examples on storage options refer `here\n",
       "    <https://pandas.pydata.org/docs/user_guide/io.html?\n",
       "    highlight=storage_options#reading-writing-remote-files>`_.\n",
       "\n",
       "Returns\n",
       "-------\n",
       "None or str\n",
       "    If path_or_buf is None, returns the resulting csv format as a\n",
       "    string. Otherwise returns None.\n",
       "\n",
       "See Also\n",
       "--------\n",
       "read_csv : Load a CSV file into a DataFrame.\n",
       "to_excel : Write DataFrame to an Excel file.\n",
       "\n",
       "Examples\n",
       "--------\n",
       "Create 'out.csv' containing 'df' without indices\n",
       "\n",
       ">>> df = pd.DataFrame({'name': ['Raphael', 'Donatello'],\n",
       "...                    'mask': ['red', 'purple'],\n",
       "...                    'weapon': ['sai', 'bo staff']})\n",
       ">>> df.to_csv('out.csv', index=False)  # doctest: +SKIP\n",
       "\n",
       "Create 'out.zip' containing 'out.csv'\n",
       "\n",
       ">>> df.to_csv(index=False)\n",
       "'name,mask,weapon\\nRaphael,red,sai\\nDonatello,purple,bo staff\\n'\n",
       ">>> compression_opts = dict(method='zip',\n",
       "...                         archive_name='out.csv')  # doctest: +SKIP\n",
       ">>> df.to_csv('out.zip', index=False,\n",
       "...           compression=compression_opts)  # doctest: +SKIP\n",
       "\n",
       "To write a csv file to a new folder or nested folder you will first\n",
       "need to create it using either Pathlib or os:\n",
       "\n",
       ">>> from pathlib import Path  # doctest: +SKIP\n",
       ">>> filepath = Path('folder/subfolder/out.csv')  # doctest: +SKIP\n",
       ">>> filepath.parent.mkdir(parents=True, exist_ok=True)  # doctest: +SKIP\n",
       ">>> df.to_csv(filepath)  # doctest: +SKIP\n",
       "\n",
       ">>> import os  # doctest: +SKIP\n",
       ">>> os.makedirs('folder/subfolder', exist_ok=True)  # doctest: +SKIP\n",
       ">>> df.to_csv('folder/subfolder/out.csv')  # doctest: +SKIP\n",
       "\u001b[1;31mFile:\u001b[0m      d:\\course\\python\\mlops\\venvmlops\\lib\\site-packages\\pandas\\core\\generic.py\n",
       "\u001b[1;31mType:\u001b[0m      method"
      ]
     },
     "metadata": {},
     "output_type": "display_data"
    }
   ],
   "source": [
    "df.to_csv?"
   ]
  },
  {
   "cell_type": "markdown",
   "id": "6758a01b-be9f-4d81-be8e-6d7ccc1b647c",
   "metadata": {},
   "source": [
    "#### Copy/Paste into other formats\n",
    "This flexibility of Pandas to allow you to read and write to many different formats and destinations can be used to create quick utilities like transforming a CSV file to paste to Excel or Markdown"
   ]
  },
  {
   "cell_type": "code",
   "execution_count": 62,
   "id": "77f29248-ef40-43e8-b0e1-1d7be2000473",
   "metadata": {},
   "outputs": [
    {
     "name": "stdout",
     "output_type": "stream",
     "text": [
      "Requirement already satisfied: tabulate in c:\\users\\mo\\anaconda3\\lib\\site-packages (0.9.0)\n"
     ]
    }
   ],
   "source": [
    "#!pip install tabulate \n",
    "\n",
    "\n",
    "# Note: It is wrong, you should not install a module in venv directly from nb, but you should go to powershell and install the module ther"
   ]
  },
  {
   "cell_type": "code",
   "execution_count": 72,
   "id": "eae3599f-94ab-44d7-8b00-17b911bb8cfe",
   "metadata": {},
   "outputs": [],
   "source": [
    "# to markdown and then to clipboard\n",
    "# this needs tabulate dependency\n",
    "from pandas.io.clipboards import to_clipboard\n",
    "md = df.to_markdown()\n",
    "to_clipboard(md, excel=False)"
   ]
  },
  {
   "cell_type": "code",
   "execution_count": 73,
   "id": "94cf80c9-f390-43a9-9db7-7050b68995a1",
   "metadata": {},
   "outputs": [
    {
     "data": {
      "text/plain": [
       "'0.9.0'"
      ]
     },
     "execution_count": 73,
     "metadata": {},
     "output_type": "execute_result"
    }
   ],
   "source": [
    "import tabulate\n",
    "tabulate.__version__"
   ]
  },
  {
   "cell_type": "code",
   "execution_count": null,
   "id": "3695b00d-3222-4c7c-95bf-5c9c669c2e65",
   "metadata": {},
   "outputs": [],
   "source": []
  },
  {
   "cell_type": "code",
   "execution_count": null,
   "id": "38c85160-af4d-4965-91f2-b89bde418e66",
   "metadata": {},
   "outputs": [],
   "source": []
  }
 ],
 "metadata": {
  "kernelspec": {
   "display_name": "venvMLOps",
   "language": "python",
   "name": "venvmlops"
  },
  "language_info": {
   "codemirror_mode": {
    "name": "ipython",
    "version": 3
   },
   "file_extension": ".py",
   "mimetype": "text/x-python",
   "name": "python",
   "nbconvert_exporter": "python",
   "pygments_lexer": "ipython3",
   "version": "3.12.2"
  }
 },
 "nbformat": 4,
 "nbformat_minor": 5
}
