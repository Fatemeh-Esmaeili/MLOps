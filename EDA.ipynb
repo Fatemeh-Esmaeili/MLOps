{
 "cells": [
  {
   "cell_type": "code",
   "execution_count": null,
   "id": "d103ff14-e227-48f1-811e-6f27044239e0",
   "metadata": {},
   "outputs": [],
   "source": [
    "Content: Coursera, Python Essentials for MLOps, "
   ]
  }
 ],
 "metadata": {
  "kernelspec": {
   "display_name": "venvMLOps",
   "language": "python",
   "name": "venvmlops"
  },
  "language_info": {
   "codemirror_mode": {
    "name": "ipython",
    "version": 3
   },
   "file_extension": ".py",
   "mimetype": "text/x-python",
   "name": "python",
   "nbconvert_exporter": "python",
   "pygments_lexer": "ipython3",
   "version": "3.12.2"
  }
 },
 "nbformat": 4,
 "nbformat_minor": 5
}
