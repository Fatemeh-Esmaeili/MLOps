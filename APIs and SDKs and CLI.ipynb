{
 "cells": [
  {
   "cell_type": "markdown",
   "id": "42f369ee-bbd2-4cc0-b052-7e221855cb89",
   "metadata": {},
   "source": [
    "Content: Coursera, Python Essentials for MLOps, Module 5, Applied Python for MLOps"
   ]
  },
  {
   "cell_type": "code",
   "execution_count": null,
   "id": "ccc0a396-87ce-4f42-8cd0-2b26dbf7db45",
   "metadata": {},
   "outputs": [],
   "source": []
  },
  {
   "cell_type": "code",
   "execution_count": null,
   "id": "85d817c0-3bd3-4774-bc0f-07eeddc7b417",
   "metadata": {},
   "outputs": [],
   "source": []
  },
  {
   "cell_type": "code",
   "execution_count": null,
   "id": "72e4449e-6b90-414f-8049-5110c67be380",
   "metadata": {},
   "outputs": [],
   "source": []
  },
  {
   "cell_type": "code",
   "execution_count": null,
   "id": "f5a4246a-e9b2-4793-a743-308474643334",
   "metadata": {},
   "outputs": [],
   "source": []
  },
  {
   "cell_type": "code",
   "execution_count": null,
   "id": "cd66247f-c0c8-4340-9015-601668f485fe",
   "metadata": {},
   "outputs": [],
   "source": []
  },
  {
   "cell_type": "code",
   "execution_count": null,
   "id": "fbb29076-fba8-4068-a707-c96a443ae535",
   "metadata": {},
   "outputs": [],
   "source": []
  },
  {
   "cell_type": "code",
   "execution_count": null,
   "id": "aee9264b-b11b-4681-a7ee-911ccbcf76ae",
   "metadata": {},
   "outputs": [],
   "source": []
  },
  {
   "cell_type": "code",
   "execution_count": null,
   "id": "e6857005-c86c-4aa5-a340-5291b4de883d",
   "metadata": {},
   "outputs": [],
   "source": []
  },
  {
   "cell_type": "code",
   "execution_count": null,
   "id": "bf38ae32-d229-4923-9b7d-198f0ba24a3d",
   "metadata": {},
   "outputs": [],
   "source": []
  },
  {
   "cell_type": "code",
   "execution_count": null,
   "id": "23d92d6f-301c-46c2-baf0-e62dad285097",
   "metadata": {},
   "outputs": [],
   "source": []
  },
  {
   "cell_type": "code",
   "execution_count": null,
   "id": "65221626-d065-4ae5-af03-b0a8ac0e94bc",
   "metadata": {},
   "outputs": [],
   "source": []
  },
  {
   "cell_type": "code",
   "execution_count": null,
   "id": "f3d12434-26d1-4743-8bc6-3ef92081bbd6",
   "metadata": {},
   "outputs": [],
   "source": []
  },
  {
   "cell_type": "code",
   "execution_count": null,
   "id": "3b250a07-a4da-4cf6-a10d-c42271f6805c",
   "metadata": {},
   "outputs": [],
   "source": []
  },
  {
   "cell_type": "code",
   "execution_count": null,
   "id": "8d3d21c5-e341-4c43-b82f-f713b7c1d45e",
   "metadata": {},
   "outputs": [],
   "source": []
  },
  {
   "cell_type": "code",
   "execution_count": null,
   "id": "6c8186b2-2244-4cc5-9205-d2a5fa936f5e",
   "metadata": {},
   "outputs": [],
   "source": []
  },
  {
   "cell_type": "code",
   "execution_count": null,
   "id": "75c32b6c-9fa4-44d1-8e7d-eb1a39bbcbab",
   "metadata": {},
   "outputs": [],
   "source": []
  },
  {
   "cell_type": "code",
   "execution_count": null,
   "id": "eb4327e0-d887-4427-b107-201ca0cd8829",
   "metadata": {},
   "outputs": [],
   "source": []
  }
 ],
 "metadata": {
  "kernelspec": {
   "display_name": "venvMLOps",
   "language": "python",
   "name": "venvmlops"
  },
  "language_info": {
   "codemirror_mode": {
    "name": "ipython",
    "version": 3
   },
   "file_extension": ".py",
   "mimetype": "text/x-python",
   "name": "python",
   "nbconvert_exporter": "python",
   "pygments_lexer": "ipython3",
   "version": "3.12.2"
  }
 },
 "nbformat": 4,
 "nbformat_minor": 5
}
