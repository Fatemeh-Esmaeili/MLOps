{
 "cells": [
  {
   "cell_type": "code",
   "execution_count": null,
   "id": "aaa1483c-809e-4da5-82e1-f333966534c0",
   "metadata": {},
   "outputs": [],
   "source": [
    "Content: Datacamp, Exploratory Data Analysis in Python"
   ]
  }
 ],
 "metadata": {
  "kernelspec": {
   "display_name": "venvMLOps",
   "language": "python",
   "name": "venvmlops"
  },
  "language_info": {
   "codemirror_mode": {
    "name": "ipython",
    "version": 3
   },
   "file_extension": ".py",
   "mimetype": "text/x-python",
   "name": "python",
   "nbconvert_exporter": "python",
   "pygments_lexer": "ipython3",
   "version": "3.12.2"
  }
 },
 "nbformat": 4,
 "nbformat_minor": 5
}
