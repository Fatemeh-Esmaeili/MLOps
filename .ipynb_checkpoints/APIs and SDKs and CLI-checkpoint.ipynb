{
 "cells": [
  {
   "cell_type": "markdown",
   "id": "42f369ee-bbd2-4cc0-b052-7e221855cb89",
   "metadata": {},
   "source": [
    "Content: Coursera, Python Essentials for MLOps, Module 5, Applied Python for MLOps"
   ]
  },
  {
   "cell_type": "markdown",
   "id": "3c6330a9-9527-46a8-91d8-c00cd510fedd",
   "metadata": {},
   "source": [
    "## Key Terms"
   ]
  },
  {
   "cell_type": "code",
   "execution_count": 2,
   "id": "ccc0a396-87ce-4f42-8cd0-2b26dbf7db45",
   "metadata": {},
   "outputs": [
    {
     "ename": "ModuleNotFoundError",
     "evalue": "No module named 'azure'",
     "output_type": "error",
     "traceback": [
      "\u001b[1;31m---------------------------------------------------------------------------\u001b[0m",
      "\u001b[1;31mModuleNotFoundError\u001b[0m                       Traceback (most recent call last)",
      "Cell \u001b[1;32mIn[2], line 1\u001b[0m\n\u001b[1;32m----> 1\u001b[0m \u001b[38;5;28;01mimport\u001b[39;00m \u001b[38;5;21;01mazure\u001b[39;00m\u001b[38;5;21;01m.\u001b[39;00m\u001b[38;5;21;01mcli\u001b[39;00m\u001b[38;5;21;01m.\u001b[39;00m\u001b[38;5;21;01mcore\u001b[39;00m\n\u001b[0;32m      3\u001b[0m cli \u001b[38;5;241m=\u001b[39m azure\u001b[38;5;241m.\u001b[39mcli\u001b[38;5;241m.\u001b[39mcore\u001b[38;5;241m.\u001b[39mAzureCli()\n\u001b[0;32m      4\u001b[0m cli\u001b[38;5;241m.\u001b[39minvoke([\u001b[38;5;124m\"\u001b[39m\u001b[38;5;124mstorage\u001b[39m\u001b[38;5;124m\"\u001b[39m, \u001b[38;5;124m\"\u001b[39m\u001b[38;5;124maccount\u001b[39m\u001b[38;5;124m\"\u001b[39m, \u001b[38;5;124m\"\u001b[39m\u001b[38;5;124mlist\u001b[39m\u001b[38;5;124m\"\u001b[39m])\n",
      "\u001b[1;31mModuleNotFoundError\u001b[0m: No module named 'azure'"
     ]
    }
   ],
   "source": [
    "import azure.cli.core\n",
    "\n",
    "cli = azure.cli.core.AzureCli()\n",
    "cli.invoke([\"storage\", \"account\", \"list\"])"
   ]
  },
  {
   "cell_type": "markdown",
   "id": "8a9b4c68-fdf2-4207-a27d-00ec3312c2e7",
   "metadata": {},
   "source": [
    "## Working with APIs and SDKs"
   ]
  },
  {
   "cell_type": "code",
   "execution_count": null,
   "id": "72e4449e-6b90-414f-8049-5110c67be380",
   "metadata": {},
   "outputs": [],
   "source": []
  },
  {
   "cell_type": "code",
   "execution_count": null,
   "id": "f5a4246a-e9b2-4793-a743-308474643334",
   "metadata": {},
   "outputs": [],
   "source": []
  },
  {
   "cell_type": "code",
   "execution_count": null,
   "id": "cd66247f-c0c8-4340-9015-601668f485fe",
   "metadata": {},
   "outputs": [],
   "source": []
  },
  {
   "cell_type": "code",
   "execution_count": null,
   "id": "fbb29076-fba8-4068-a707-c96a443ae535",
   "metadata": {},
   "outputs": [],
   "source": []
  },
  {
   "cell_type": "code",
   "execution_count": null,
   "id": "aee9264b-b11b-4681-a7ee-911ccbcf76ae",
   "metadata": {},
   "outputs": [],
   "source": []
  },
  {
   "cell_type": "code",
   "execution_count": null,
   "id": "e6857005-c86c-4aa5-a340-5291b4de883d",
   "metadata": {},
   "outputs": [],
   "source": []
  },
  {
   "cell_type": "code",
   "execution_count": null,
   "id": "bf38ae32-d229-4923-9b7d-198f0ba24a3d",
   "metadata": {},
   "outputs": [],
   "source": []
  },
  {
   "cell_type": "code",
   "execution_count": null,
   "id": "23d92d6f-301c-46c2-baf0-e62dad285097",
   "metadata": {},
   "outputs": [],
   "source": []
  },
  {
   "cell_type": "code",
   "execution_count": null,
   "id": "65221626-d065-4ae5-af03-b0a8ac0e94bc",
   "metadata": {},
   "outputs": [],
   "source": []
  },
  {
   "cell_type": "code",
   "execution_count": null,
   "id": "f3d12434-26d1-4743-8bc6-3ef92081bbd6",
   "metadata": {},
   "outputs": [],
   "source": []
  },
  {
   "cell_type": "code",
   "execution_count": null,
   "id": "3b250a07-a4da-4cf6-a10d-c42271f6805c",
   "metadata": {},
   "outputs": [],
   "source": []
  },
  {
   "cell_type": "code",
   "execution_count": null,
   "id": "8d3d21c5-e341-4c43-b82f-f713b7c1d45e",
   "metadata": {},
   "outputs": [],
   "source": []
  },
  {
   "cell_type": "code",
   "execution_count": null,
   "id": "6c8186b2-2244-4cc5-9205-d2a5fa936f5e",
   "metadata": {},
   "outputs": [],
   "source": []
  },
  {
   "cell_type": "code",
   "execution_count": null,
   "id": "75c32b6c-9fa4-44d1-8e7d-eb1a39bbcbab",
   "metadata": {},
   "outputs": [],
   "source": []
  },
  {
   "cell_type": "code",
   "execution_count": null,
   "id": "eb4327e0-d887-4427-b107-201ca0cd8829",
   "metadata": {},
   "outputs": [],
   "source": []
  }
 ],
 "metadata": {
  "kernelspec": {
   "display_name": "venvMLOps",
   "language": "python",
   "name": "venvmlops"
  },
  "language_info": {
   "codemirror_mode": {
    "name": "ipython",
    "version": 3
   },
   "file_extension": ".py",
   "mimetype": "text/x-python",
   "name": "python",
   "nbconvert_exporter": "python",
   "pygments_lexer": "ipython3",
   "version": "3.12.2"
  }
 },
 "nbformat": 4,
 "nbformat_minor": 5
}
